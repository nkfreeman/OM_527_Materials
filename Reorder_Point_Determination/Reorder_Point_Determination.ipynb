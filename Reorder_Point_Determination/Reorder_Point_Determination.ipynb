{
 "cells": [
  {
   "cell_type": "markdown",
   "metadata": {},
   "source": [
    "# Reorder Point Determination\n",
    "Prepared by: Nickolas Freeman, PhD\n",
    "\n",
    "In this notebook we will consider the problem of determining reorder points for a set of purchased products that are subject to demand and lead time uncertainty. This is a common problem in inventory management that is faced by companies in a wide range of industries. Due to its practical relevance, this problem has been extensively studied. However, most research focuses on determining the structure of the optimal ordering policy, not necessarily providing results that are easily implemeted by practitioners. We will use monte carlo simulation techniques to simulate product demands during the replenishment lead time. The simulation will provide a vector of observations, each of which represents a potential scenario for demand during the lead time. We will then identify percentiles of the scenarios for demand during the lead time that correspond to user-selected service levels in order to determine the inventory position (on-hand + in-transit) level that should be used to trigger reorders.\n",
    "\n",
    "The following code block imports the libraries we will use."
   ]
  },
  {
   "cell_type": "code",
   "execution_count": 1,
   "metadata": {},
   "outputs": [],
   "source": [
    "import pandas as pd\n",
    "import matplotlib.pyplot as plt\n",
    "import numpy as np\n",
    "import distribution_fitting as dist_fit\n",
    "import datetime"
   ]
  },
  {
   "cell_type": "markdown",
   "metadata": {},
   "source": [
    "The following code block imports two data files that we will use and store them in Pandas `DataFrame` objects. The `lt_data` object includes order and delivery dates for the various products. The `demand_data` object includes daily sales for the products."
   ]
  },
  {
   "cell_type": "code",
   "execution_count": 2,
   "metadata": {},
   "outputs": [],
   "source": [
    "lt_data = pd.read_csv('LT_Data.csv')\n",
    "demand_data = pd.read_csv('demand_data.csv')"
   ]
  },
  {
   "cell_type": "markdown",
   "metadata": {},
   "source": [
    "The `lt_data` object includes information on the order and delivery dates for 100 products. The number of observations varies by product. The following code block prints the first five rows."
   ]
  },
  {
   "cell_type": "code",
   "execution_count": 3,
   "metadata": {},
   "outputs": [
    {
     "data": {
      "text/html": [
       "<div>\n",
       "<style scoped>\n",
       "    .dataframe tbody tr th:only-of-type {\n",
       "        vertical-align: middle;\n",
       "    }\n",
       "\n",
       "    .dataframe tbody tr th {\n",
       "        vertical-align: top;\n",
       "    }\n",
       "\n",
       "    .dataframe thead th {\n",
       "        text-align: right;\n",
       "    }\n",
       "</style>\n",
       "<table border=\"1\" class=\"dataframe\">\n",
       "  <thead>\n",
       "    <tr style=\"text-align: right;\">\n",
       "      <th></th>\n",
       "      <th>Product</th>\n",
       "      <th>Order_Date</th>\n",
       "      <th>Delivery_Date</th>\n",
       "    </tr>\n",
       "  </thead>\n",
       "  <tbody>\n",
       "    <tr>\n",
       "      <th>0</th>\n",
       "      <td>TQO7U9</td>\n",
       "      <td>2016-01-01 00:01:00</td>\n",
       "      <td>2016-01-13 03:01:00</td>\n",
       "    </tr>\n",
       "    <tr>\n",
       "      <th>1</th>\n",
       "      <td>2IGA7Y</td>\n",
       "      <td>2016-01-01 03:01:00</td>\n",
       "      <td>2016-02-02 12:02:00</td>\n",
       "    </tr>\n",
       "    <tr>\n",
       "      <th>2</th>\n",
       "      <td>2XAMNE</td>\n",
       "      <td>2016-01-01 17:01:00</td>\n",
       "      <td>2016-01-21 19:01:00</td>\n",
       "    </tr>\n",
       "    <tr>\n",
       "      <th>3</th>\n",
       "      <td>I0VI9X</td>\n",
       "      <td>2016-01-01 21:01:00</td>\n",
       "      <td>2016-01-08 10:01:00</td>\n",
       "    </tr>\n",
       "    <tr>\n",
       "      <th>4</th>\n",
       "      <td>R5ZAT7</td>\n",
       "      <td>2016-01-02 02:01:00</td>\n",
       "      <td>2016-01-18 06:01:00</td>\n",
       "    </tr>\n",
       "  </tbody>\n",
       "</table>\n",
       "</div>"
      ],
      "text/plain": [
       "  Product           Order_Date        Delivery_Date\n",
       "0  TQO7U9  2016-01-01 00:01:00  2016-01-13 03:01:00\n",
       "1  2IGA7Y  2016-01-01 03:01:00  2016-02-02 12:02:00\n",
       "2  2XAMNE  2016-01-01 17:01:00  2016-01-21 19:01:00\n",
       "3  I0VI9X  2016-01-01 21:01:00  2016-01-08 10:01:00\n",
       "4  R5ZAT7  2016-01-02 02:01:00  2016-01-18 06:01:00"
      ]
     },
     "execution_count": 3,
     "metadata": {},
     "output_type": "execute_result"
    }
   ],
   "source": [
    "lt_data.head()"
   ]
  },
  {
   "cell_type": "markdown",
   "metadata": {},
   "source": [
    "The `demand_data` object includes information on the sales of the 100 products over the last 1,170 days. The following code block prints the first five rows."
   ]
  },
  {
   "cell_type": "code",
   "execution_count": 4,
   "metadata": {},
   "outputs": [
    {
     "data": {
      "text/html": [
       "<div>\n",
       "<style scoped>\n",
       "    .dataframe tbody tr th:only-of-type {\n",
       "        vertical-align: middle;\n",
       "    }\n",
       "\n",
       "    .dataframe tbody tr th {\n",
       "        vertical-align: top;\n",
       "    }\n",
       "\n",
       "    .dataframe thead th {\n",
       "        text-align: right;\n",
       "    }\n",
       "</style>\n",
       "<table border=\"1\" class=\"dataframe\">\n",
       "  <thead>\n",
       "    <tr style=\"text-align: right;\">\n",
       "      <th></th>\n",
       "      <th>Date</th>\n",
       "      <th>0R25WF</th>\n",
       "      <th>10FQ8W</th>\n",
       "      <th>1A5N7S</th>\n",
       "      <th>1Q8MLE</th>\n",
       "      <th>2DS613</th>\n",
       "      <th>2IGA7Y</th>\n",
       "      <th>2MA6C6</th>\n",
       "      <th>2VWXHB</th>\n",
       "      <th>2XAMNE</th>\n",
       "      <th>...</th>\n",
       "      <th>VW3J8R</th>\n",
       "      <th>VWYZZ6</th>\n",
       "      <th>WLJHSS</th>\n",
       "      <th>WOHDY2</th>\n",
       "      <th>Y0CQ65</th>\n",
       "      <th>YE1CCF</th>\n",
       "      <th>YNLMDV</th>\n",
       "      <th>YZ3I9T</th>\n",
       "      <th>Z6UJEJ</th>\n",
       "      <th>Z9O3MV</th>\n",
       "    </tr>\n",
       "  </thead>\n",
       "  <tbody>\n",
       "    <tr>\n",
       "      <th>0</th>\n",
       "      <td>2016-01-01</td>\n",
       "      <td>17.0</td>\n",
       "      <td>32.0</td>\n",
       "      <td>11.0</td>\n",
       "      <td>9.0</td>\n",
       "      <td>12.0</td>\n",
       "      <td>23.0</td>\n",
       "      <td>13.0</td>\n",
       "      <td>24.0</td>\n",
       "      <td>22.0</td>\n",
       "      <td>...</td>\n",
       "      <td>15.0</td>\n",
       "      <td>31.0</td>\n",
       "      <td>6.0</td>\n",
       "      <td>25.0</td>\n",
       "      <td>14.0</td>\n",
       "      <td>23.0</td>\n",
       "      <td>14.0</td>\n",
       "      <td>7.0</td>\n",
       "      <td>6.0</td>\n",
       "      <td>6.0</td>\n",
       "    </tr>\n",
       "    <tr>\n",
       "      <th>1</th>\n",
       "      <td>2016-01-02</td>\n",
       "      <td>16.0</td>\n",
       "      <td>31.0</td>\n",
       "      <td>10.0</td>\n",
       "      <td>17.0</td>\n",
       "      <td>11.0</td>\n",
       "      <td>14.0</td>\n",
       "      <td>25.0</td>\n",
       "      <td>19.0</td>\n",
       "      <td>22.0</td>\n",
       "      <td>...</td>\n",
       "      <td>31.0</td>\n",
       "      <td>24.0</td>\n",
       "      <td>7.0</td>\n",
       "      <td>18.0</td>\n",
       "      <td>20.0</td>\n",
       "      <td>19.0</td>\n",
       "      <td>16.0</td>\n",
       "      <td>10.0</td>\n",
       "      <td>18.0</td>\n",
       "      <td>4.0</td>\n",
       "    </tr>\n",
       "    <tr>\n",
       "      <th>2</th>\n",
       "      <td>2016-01-03</td>\n",
       "      <td>29.0</td>\n",
       "      <td>30.0</td>\n",
       "      <td>8.0</td>\n",
       "      <td>15.0</td>\n",
       "      <td>11.0</td>\n",
       "      <td>22.0</td>\n",
       "      <td>16.0</td>\n",
       "      <td>46.0</td>\n",
       "      <td>20.0</td>\n",
       "      <td>...</td>\n",
       "      <td>31.0</td>\n",
       "      <td>25.0</td>\n",
       "      <td>12.0</td>\n",
       "      <td>21.0</td>\n",
       "      <td>18.0</td>\n",
       "      <td>29.0</td>\n",
       "      <td>6.0</td>\n",
       "      <td>13.0</td>\n",
       "      <td>9.0</td>\n",
       "      <td>9.0</td>\n",
       "    </tr>\n",
       "    <tr>\n",
       "      <th>3</th>\n",
       "      <td>2016-01-04</td>\n",
       "      <td>6.0</td>\n",
       "      <td>30.0</td>\n",
       "      <td>10.0</td>\n",
       "      <td>6.0</td>\n",
       "      <td>11.0</td>\n",
       "      <td>24.0</td>\n",
       "      <td>25.0</td>\n",
       "      <td>31.0</td>\n",
       "      <td>22.0</td>\n",
       "      <td>...</td>\n",
       "      <td>18.0</td>\n",
       "      <td>24.0</td>\n",
       "      <td>8.0</td>\n",
       "      <td>19.0</td>\n",
       "      <td>23.0</td>\n",
       "      <td>34.0</td>\n",
       "      <td>11.0</td>\n",
       "      <td>17.0</td>\n",
       "      <td>22.0</td>\n",
       "      <td>4.0</td>\n",
       "    </tr>\n",
       "    <tr>\n",
       "      <th>4</th>\n",
       "      <td>2016-01-05</td>\n",
       "      <td>18.0</td>\n",
       "      <td>31.0</td>\n",
       "      <td>17.0</td>\n",
       "      <td>8.0</td>\n",
       "      <td>10.0</td>\n",
       "      <td>11.0</td>\n",
       "      <td>33.0</td>\n",
       "      <td>22.0</td>\n",
       "      <td>18.0</td>\n",
       "      <td>...</td>\n",
       "      <td>19.0</td>\n",
       "      <td>30.0</td>\n",
       "      <td>11.0</td>\n",
       "      <td>24.0</td>\n",
       "      <td>19.0</td>\n",
       "      <td>27.0</td>\n",
       "      <td>6.0</td>\n",
       "      <td>12.0</td>\n",
       "      <td>20.0</td>\n",
       "      <td>7.0</td>\n",
       "    </tr>\n",
       "  </tbody>\n",
       "</table>\n",
       "<p>5 rows × 101 columns</p>\n",
       "</div>"
      ],
      "text/plain": [
       "         Date  0R25WF  10FQ8W  1A5N7S  1Q8MLE  2DS613  2IGA7Y  2MA6C6  2VWXHB  \\\n",
       "0  2016-01-01    17.0    32.0    11.0     9.0    12.0    23.0    13.0    24.0   \n",
       "1  2016-01-02    16.0    31.0    10.0    17.0    11.0    14.0    25.0    19.0   \n",
       "2  2016-01-03    29.0    30.0     8.0    15.0    11.0    22.0    16.0    46.0   \n",
       "3  2016-01-04     6.0    30.0    10.0     6.0    11.0    24.0    25.0    31.0   \n",
       "4  2016-01-05    18.0    31.0    17.0     8.0    10.0    11.0    33.0    22.0   \n",
       "\n",
       "   2XAMNE  ...  VW3J8R  VWYZZ6  WLJHSS  WOHDY2  Y0CQ65  YE1CCF  YNLMDV  \\\n",
       "0    22.0  ...    15.0    31.0     6.0    25.0    14.0    23.0    14.0   \n",
       "1    22.0  ...    31.0    24.0     7.0    18.0    20.0    19.0    16.0   \n",
       "2    20.0  ...    31.0    25.0    12.0    21.0    18.0    29.0     6.0   \n",
       "3    22.0  ...    18.0    24.0     8.0    19.0    23.0    34.0    11.0   \n",
       "4    18.0  ...    19.0    30.0    11.0    24.0    19.0    27.0     6.0   \n",
       "\n",
       "   YZ3I9T  Z6UJEJ  Z9O3MV  \n",
       "0     7.0     6.0     6.0  \n",
       "1    10.0    18.0     4.0  \n",
       "2    13.0     9.0     9.0  \n",
       "3    17.0    22.0     4.0  \n",
       "4    12.0    20.0     7.0  \n",
       "\n",
       "[5 rows x 101 columns]"
      ]
     },
     "execution_count": 4,
     "metadata": {},
     "output_type": "execute_result"
    }
   ],
   "source": [
    "demand_data.head()"
   ]
  },
  {
   "cell_type": "markdown",
   "metadata": {},
   "source": [
    "The following code block uses a for loop to define a grid of subplots that demonstrates the variety of distributions for the underlying product demands."
   ]
  },
  {
   "cell_type": "code",
   "execution_count": 5,
   "metadata": {},
   "outputs": [
    {
     "data": {
      "image/png": "[encoded data removed]",
      "text/plain": [
       "<Figure size 1008x720 with 4 Axes>"
      ]
     },
     "metadata": {
      "needs_background": "light"
     },
     "output_type": "display_data"
    }
   ],
   "source": [
    "products_to_plot = [['6VGPBC', 'ULFV3M'],\n",
    "                    ['TFH5XF','2VWXHB']]\n",
    "\n",
    "fig, ax = plt.subplots(len(products_to_plot), \n",
    "                       len(products_to_plot[0]),\n",
    "                       figsize = (14,10))\n",
    "\n",
    "for row in range(len(products_to_plot)):\n",
    "    for column in range(len(products_to_plot[0])):\n",
    "        current_product = products_to_plot[row][column]\n",
    "    \n",
    "        ax[row,column].hist(demand_data[current_product].values, \n",
    "                            edgecolor = 'k',\n",
    "                            bins = 8,\n",
    "                            density = True)\n",
    "        ax[row,column].set_title(f'{current_product} Demand')\n",
    "        ax[row,column].set_xlabel(f'Value')\n",
    "        ax[row,column].set_ylabel(f'Relative Frequency')\n",
    "\n",
    "plt.show()"
   ]
  },
  {
   "cell_type": "markdown",
   "metadata": {},
   "source": [
    "The first thing that we need to do is convert the dates given in the `lt_data` object to `datetime` objects, and use the converted data to calculate the lead time observations. The following code block performs this conversion."
   ]
  },
  {
   "cell_type": "code",
   "execution_count": 6,
   "metadata": {},
   "outputs": [
    {
     "data": {
      "text/html": [
       "<div>\n",
       "<style scoped>\n",
       "    .dataframe tbody tr th:only-of-type {\n",
       "        vertical-align: middle;\n",
       "    }\n",
       "\n",
       "    .dataframe tbody tr th {\n",
       "        vertical-align: top;\n",
       "    }\n",
       "\n",
       "    .dataframe thead th {\n",
       "        text-align: right;\n",
       "    }\n",
       "</style>\n",
       "<table border=\"1\" class=\"dataframe\">\n",
       "  <thead>\n",
       "    <tr style=\"text-align: right;\">\n",
       "      <th></th>\n",
       "      <th>Product</th>\n",
       "      <th>Order_Date</th>\n",
       "      <th>Delivery_Date</th>\n",
       "      <th>Lead_Time</th>\n",
       "    </tr>\n",
       "  </thead>\n",
       "  <tbody>\n",
       "    <tr>\n",
       "      <th>0</th>\n",
       "      <td>TQO7U9</td>\n",
       "      <td>2016-01-01 00:01:00</td>\n",
       "      <td>2016-01-13 03:01:00</td>\n",
       "      <td>12.125000</td>\n",
       "    </tr>\n",
       "    <tr>\n",
       "      <th>1</th>\n",
       "      <td>2IGA7Y</td>\n",
       "      <td>2016-01-01 03:01:00</td>\n",
       "      <td>2016-02-02 12:02:00</td>\n",
       "      <td>32.375694</td>\n",
       "    </tr>\n",
       "    <tr>\n",
       "      <th>2</th>\n",
       "      <td>2XAMNE</td>\n",
       "      <td>2016-01-01 17:01:00</td>\n",
       "      <td>2016-01-21 19:01:00</td>\n",
       "      <td>20.083333</td>\n",
       "    </tr>\n",
       "    <tr>\n",
       "      <th>3</th>\n",
       "      <td>I0VI9X</td>\n",
       "      <td>2016-01-01 21:01:00</td>\n",
       "      <td>2016-01-08 10:01:00</td>\n",
       "      <td>6.541667</td>\n",
       "    </tr>\n",
       "    <tr>\n",
       "      <th>4</th>\n",
       "      <td>R5ZAT7</td>\n",
       "      <td>2016-01-02 02:01:00</td>\n",
       "      <td>2016-01-18 06:01:00</td>\n",
       "      <td>16.166667</td>\n",
       "    </tr>\n",
       "  </tbody>\n",
       "</table>\n",
       "</div>"
      ],
      "text/plain": [
       "  Product          Order_Date       Delivery_Date  Lead_Time\n",
       "0  TQO7U9 2016-01-01 00:01:00 2016-01-13 03:01:00  12.125000\n",
       "1  2IGA7Y 2016-01-01 03:01:00 2016-02-02 12:02:00  32.375694\n",
       "2  2XAMNE 2016-01-01 17:01:00 2016-01-21 19:01:00  20.083333\n",
       "3  I0VI9X 2016-01-01 21:01:00 2016-01-08 10:01:00   6.541667\n",
       "4  R5ZAT7 2016-01-02 02:01:00 2016-01-18 06:01:00  16.166667"
      ]
     },
     "execution_count": 6,
     "metadata": {},
     "output_type": "execute_result"
    }
   ],
   "source": [
    "lt_data['Order_Date'] = pd.to_datetime(lt_data['Order_Date'])\n",
    "lt_data['Delivery_Date'] = pd.to_datetime(lt_data['Delivery_Date'])\n",
    "lt_data['Lead_Time'] = (lt_data['Delivery_Date'] - lt_data['Order_Date']).dt.total_seconds()/(24*60*60)\n",
    "lt_data.head()"
   ]
  },
  {
   "cell_type": "markdown",
   "metadata": {},
   "source": [
    "Since both the replenishment lead time and demand are uncertain, we will need to fit distributions so that we can generate random samples for these two variables. The following code uses the kernel density estimation techniques available in the `distribution_fitting` module to fit a distribution for the lead time of a user-specified product."
   ]
  },
  {
   "cell_type": "code",
   "execution_count": 7,
   "metadata": {},
   "outputs": [
    {
     "data": {
      "image/png": "[encoded data removed]",
      "text/plain": [
       "<Figure size 576x432 with 1 Axes>"
      ]
     },
     "metadata": {
      "needs_background": "light"
     },
     "output_type": "display_data"
    }
   ],
   "source": [
    "current_product = 'TQO7U9'\n",
    "sample_size = 100\n",
    "\n",
    "mask = lt_data['Product'] == current_product\n",
    "lt_data_sample = lt_data.loc[mask, 'Lead_Time'].values\n",
    "lt_best_params = dist_fit.fit_best_kde(lt_data_sample)\n",
    "pdf = dist_fit.pdf_from_kde(lt_data_sample, \n",
    "                            bandwidth = lt_best_params['bandwidth'], \n",
    "                            kernel = lt_best_params['kernel'])\n",
    "lt_random_sample = dist_fit.trunc_kde_sample(pdf['x'], pdf['y'], sample_size = sample_size)\n",
    "\n",
    "fig, ax = plt.subplots(figsize = (8,6))\n",
    "ax.hist(lt_random_sample, density = True, edgecolor = 'k')\n",
    "ax.set_xlabel('Lead Time')\n",
    "ax.set_ylabel('Relative Frequency')\n",
    "plt.show()"
   ]
  },
  {
   "cell_type": "markdown",
   "metadata": {},
   "source": [
    "The following code block specifes the code needed to fit a distribution for the product specified in the previous cell and generate a sample for the demand that for each day of a specified lead time. Summing up the demand values in the sample provides a single scenario for the demand during the replenishment lead time. "
   ]
  },
  {
   "cell_type": "code",
   "execution_count": 8,
   "metadata": {},
   "outputs": [
    {
     "name": "stdout",
     "output_type": "stream",
     "text": [
      "Demand during lead time is 209.03963963963963\n"
     ]
    }
   ],
   "source": [
    "demand_data_sample = demand_data[current_product].values\n",
    "demand_best_params = dist_fit.fit_best_kde(demand_data_sample, \n",
    "                                           fit_sample_size = 400)\n",
    "pdf = dist_fit.pdf_from_kde(demand_data_sample,\n",
    "                            bandwidth = demand_best_params['bandwidth'], \n",
    "                            kernel = demand_best_params['kernel'])\n",
    "lt_val = 10\n",
    "demand_random_sample = dist_fit.trunc_kde_sample(pdf['x'], \n",
    "                                                 pdf['y'], \n",
    "                                                 sample_size = lt_val)\n",
    "print(f'Demand during lead time is {np.array(demand_random_sample).sum()}')"
   ]
  },
  {
   "cell_type": "markdown",
   "metadata": {},
   "source": [
    "Together, the previous two code block provide a sense of how we will approach the problem of reorder point determination. Essentially, we will generate a random sample for the lead of each product. Then, for each scenario in the lead time sample, we will randomly generate a demand sample, where the length of the demand sample corresponds to the timeframe specified in the current scenario. Summing the demand values in the generated scenario provides one possible realization for demand during the lead time. Storing the demand during the lead time scenarios for all values of the lead time in the the lead time sample allows us to approximate the distribution for lead time demand. We can use this distribution to determine appropriate reorder point levels that guarantee user-specified serive levels. Pseudocode for the approach follows:\n",
    "\n",
    "```python\n",
    "1. define sample size and target service levels\n",
    "for product in products:\n",
    "    2. fit lead time distribution\n",
    "    3. fit demand distribution\n",
    "    4. generate lead time sample\n",
    "    for each scenario in lead time sample:\n",
    "        5. generate a demand sample corresponding to the number of days in the lead time sample\n",
    "        6. calculate total demand, which represents a pontential observation of lead time demand\n",
    "        7. store lead time demand observation\n",
    "    8. use current product lead time demand information to compute reorder points for target service levels\n",
    "    9. store reorder points\n",
    "10. output reorder point information\n",
    "```"
   ]
  },
  {
   "cell_type": "code",
   "execution_count": 9,
   "metadata": {},
   "outputs": [
    {
     "name": "stdout",
     "output_type": "stream",
     "text": [
      "TQO7U9 complete. Total run time = 0:00:02.362839\n",
      "2IGA7Y complete. Total run time = 0:00:02.251647\n",
      "2XAMNE complete. Total run time = 0:00:01.982190\n"
     ]
    },
    {
     "data": {
      "text/html": [
       "<div>\n",
       "<style scoped>\n",
       "    .dataframe tbody tr th:only-of-type {\n",
       "        vertical-align: middle;\n",
       "    }\n",
       "\n",
       "    .dataframe tbody tr th {\n",
       "        vertical-align: top;\n",
       "    }\n",
       "\n",
       "    .dataframe thead th {\n",
       "        text-align: right;\n",
       "    }\n",
       "</style>\n",
       "<table border=\"1\" class=\"dataframe\">\n",
       "  <thead>\n",
       "    <tr style=\"text-align: right;\">\n",
       "      <th></th>\n",
       "      <th>Mean LT Demand</th>\n",
       "      <th>95% SL</th>\n",
       "      <th>99% SL</th>\n",
       "    </tr>\n",
       "  </thead>\n",
       "  <tbody>\n",
       "    <tr>\n",
       "      <th>TQO7U9</th>\n",
       "      <td>309.952991</td>\n",
       "      <td>534.204189</td>\n",
       "      <td>595.614000</td>\n",
       "    </tr>\n",
       "    <tr>\n",
       "      <th>2IGA7Y</th>\n",
       "      <td>638.639830</td>\n",
       "      <td>925.310255</td>\n",
       "      <td>1003.973237</td>\n",
       "    </tr>\n",
       "    <tr>\n",
       "      <th>2XAMNE</th>\n",
       "      <td>251.349095</td>\n",
       "      <td>539.363363</td>\n",
       "      <td>609.891620</td>\n",
       "    </tr>\n",
       "  </tbody>\n",
       "</table>\n",
       "</div>"
      ],
      "text/plain": [
       "        Mean LT Demand      95% SL       99% SL\n",
       "TQO7U9      309.952991  534.204189   595.614000\n",
       "2IGA7Y      638.639830  925.310255  1003.973237\n",
       "2XAMNE      251.349095  539.363363   609.891620"
      ]
     },
     "execution_count": 9,
     "metadata": {},
     "output_type": "execute_result"
    }
   ],
   "source": [
    "# specify the sample size (i.e., the number of\n",
    "# lead time values to generate)\n",
    "sample_size = 1000\n",
    "\n",
    "# specify the service level values to consider\n",
    "service_levels = [95, 99]\n",
    "\n",
    "# specify a cutoff value that will limit the number of \n",
    "# products to consider\n",
    "cutoff = 3\n",
    "\n",
    "# initialize an empty dictionary to store the \n",
    "# reorder point information\n",
    "reorder_info = {}\n",
    "\n",
    "# for each product (up to the specified cutoff)\n",
    "for index, current_product in enumerate(lt_data['Product'].unique()[:cutoff]):\n",
    "    reorder_info[current_product] = {}\n",
    "    \n",
    "    # capture the time that the simulation starts for the current product\n",
    "    start = datetime.datetime.now()\n",
    "    \n",
    "    # initialize an empty list that will contain the demand\n",
    "    # during the lead time scenarios\n",
    "    demand_during_lt_list = []\n",
    "    \n",
    "    # fit the lead time distribution for the current product\n",
    "    lt_data_sample = lt_data[lt_data['Product'] == current_product]['Lead_Time'].values\n",
    "    mean_lt = lt_data_sample.mean()\n",
    "    lt_best_params = dist_fit.fit_best_kde(lt_data_sample)\n",
    "    lt_pdf = dist_fit.pdf_from_kde(lt_data_sample, \n",
    "                                   bandwidth = lt_best_params['bandwidth'], \n",
    "                                   kernel = lt_best_params['kernel'])\n",
    "\n",
    "    # fit the demand distribution for the current product\n",
    "    demand_data_sample = demand_data[current_product].values\n",
    "    mean_demand = demand_data_sample.mean()\n",
    "    demand_best_params = dist_fit.fit_best_kde(demand_data_sample, fit_sample_size = 400)\n",
    "    demand_pdf = dist_fit.pdf_from_kde(demand_data_sample,\n",
    "                                       bandwidth = demand_best_params['bandwidth'],\n",
    "                                       kernel = demand_best_params['kernel'])\n",
    "    \n",
    "    # calculate the mean demand during the lead time\n",
    "    mean_demand_during_LT = mean_demand * mean_lt\n",
    "    \n",
    "    # generate a random lead time sample\n",
    "    lt_random_sample = dist_fit.trunc_kde_sample(lt_pdf['x'], lt_pdf['y'], sample_size = sample_size)\n",
    "    \n",
    "    # for each lead time value in the sample\n",
    "    for lt_index, lt_val in enumerate(lt_random_sample):\n",
    "        \n",
    "        # generate a demand sample where the length of the sample \n",
    "        # equals the current value of the lead time sample\n",
    "        # (rounded UP to the nearest integer)\n",
    "        demand_random_sample = dist_fit.trunc_kde_sample(demand_pdf['x'],\n",
    "                                                         demand_pdf['y'], \n",
    "                                                         low = 0, \n",
    "                                                         seed = lt_index,\n",
    "                                                         sample_size = int(np.ceil(lt_val)))\n",
    "        \n",
    "        # sum the demand values and append result to lead\n",
    "        # time demand list\n",
    "        demand_during_lt_list.append(np.array(demand_random_sample).sum())\n",
    "        \n",
    "    # update reorder point array\n",
    "    reorder_info[current_product]['Mean LT Demand'] = mean_demand_during_LT\n",
    "    for service_level in service_levels:\n",
    "        reorder_info[current_product][f'{service_level}% SL'] = np.percentile(np.array(demand_during_lt_list), \n",
    "                                                                              service_level)\n",
    "    \n",
    "    # capture and print the elapsed simulation time for the current product\n",
    "    print(f'{current_product} complete. Total run time = {datetime.datetime.now()-start}')\n",
    "    \n",
    "pd.DataFrame.from_dict(reorder_info, orient = 'index')"
   ]
  }
 ],
 "metadata": {
  "kernelspec": {
   "display_name": "Python 3",
   "language": "python",
   "name": "python3"
  },
  "language_info": {
   "codemirror_mode": {
    "name": "ipython",
    "version": 3
   },
   "file_extension": ".py",
   "mimetype": "text/x-python",
   "name": "python",
   "nbconvert_exporter": "python",
   "pygments_lexer": "ipython3",
   "version": "3.7.6"
  }
 },
 "nbformat": 4,
 "nbformat_minor": 2
}

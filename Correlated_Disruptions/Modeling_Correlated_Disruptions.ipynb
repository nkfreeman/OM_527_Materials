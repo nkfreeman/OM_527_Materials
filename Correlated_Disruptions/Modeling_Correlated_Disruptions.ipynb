{
 "cells": [
  {
   "cell_type": "markdown",
   "metadata": {},
   "source": [
    "# Modeling Correlated Disruption Processes\n",
    "Prepared by: Nickolas Freeman, PhD\n",
    "\n",
    "This notebook demonstrates how to incorporate correlated supplier disruptions when limited data is available. In such cases, the fact that limited data is available may lead decision-makers to doubt the correlation estimates suggested by the data. The following code block imports some libraries that we will use."
   ]
  },
  {
   "cell_type": "code",
   "execution_count": 1,
   "metadata": {},
   "outputs": [],
   "source": [
    "import pandas as pd\n",
    "import numpy as np\n",
    "from ipywidgets import interact\n",
    "import matplotlib.pyplot as plt\n",
    "import seaborn as sns\n",
    "from gurobipy import *"
   ]
  },
  {
   "cell_type": "markdown",
   "metadata": {},
   "source": [
    "Before looking at the sourcing models, we will consider how data can sometimes not provide a complete picture of the relationships that exist among variables. The following code block reads a files that contains 13 datasets named the *Datasaurus Dozen*. The dropdown box allows users to vizualize each dataset, each of which is composed of a collection of $(x,y)$ pairs. The visualizations show that the datasets are quite different."
   ]
  },
  {
   "cell_type": "code",
   "execution_count": 2,
   "metadata": {},
   "outputs": [
    {
     "data": {
      "application/vnd.jupyter.widget-view+json": {
       "model_id": "7c6125fa76424827b463c8592e15fe3f",
       "version_major": 2,
       "version_minor": 0
      },
      "text/plain": [
       "interactive(children=(Dropdown(description='current_dataset_name', options=('dino', 'away', 'h_lines', 'v_line…"
      ]
     },
     "metadata": {},
     "output_type": "display_data"
    }
   ],
   "source": [
    "dozen = pd.read_csv('DatasaurusDozen.csv')\n",
    "dataset_names = dozen['dataset'].unique().tolist()\n",
    "\n",
    "@interact(current_dataset_name = dataset_names)\n",
    "\n",
    "def interactive_spend_analysis(current_dataset_name = dataset_names[0]):\n",
    "\n",
    "    current_dataset = dozen[dozen['dataset'] == current_dataset_name]\n",
    "\n",
    "    fig, ax = plt.subplots(1, 1, figsize = (8,6))\n",
    "    sns.scatterplot(x = 'x', y = 'y', data = current_dataset)\n",
    "    plt.show()"
   ]
  },
  {
   "cell_type": "markdown",
   "metadata": {},
   "source": [
    "The following code block prints summary statistics for the datasets that can be plotted in the previous code block. Note that even though the plots for each dataset differ significantly, the summary statistics for each dataset are very similar."
   ]
  },
  {
   "cell_type": "code",
   "execution_count": 3,
   "metadata": {},
   "outputs": [
    {
     "data": {
      "text/html": [
       "<div>\n",
       "<style scoped>\n",
       "    .dataframe tbody tr th:only-of-type {\n",
       "        vertical-align: middle;\n",
       "    }\n",
       "\n",
       "    .dataframe tbody tr th {\n",
       "        vertical-align: top;\n",
       "    }\n",
       "\n",
       "    .dataframe thead th {\n",
       "        text-align: right;\n",
       "    }\n",
       "</style>\n",
       "<table border=\"1\" class=\"dataframe\">\n",
       "  <thead>\n",
       "    <tr style=\"text-align: right;\">\n",
       "      <th></th>\n",
       "      <th>dataset</th>\n",
       "      <th>x_mean</th>\n",
       "      <th>y_mean</th>\n",
       "      <th>x_median</th>\n",
       "      <th>y_median</th>\n",
       "      <th>x_std</th>\n",
       "      <th>y_std</th>\n",
       "      <th>correlation</th>\n",
       "    </tr>\n",
       "  </thead>\n",
       "  <tbody>\n",
       "    <tr>\n",
       "      <th>0</th>\n",
       "      <td>dino</td>\n",
       "      <td>54.26</td>\n",
       "      <td>47.83</td>\n",
       "      <td>53.33</td>\n",
       "      <td>46.03</td>\n",
       "      <td>16.77</td>\n",
       "      <td>26.94</td>\n",
       "      <td>-0.06</td>\n",
       "    </tr>\n",
       "    <tr>\n",
       "      <th>1</th>\n",
       "      <td>away</td>\n",
       "      <td>54.27</td>\n",
       "      <td>47.83</td>\n",
       "      <td>53.34</td>\n",
       "      <td>47.54</td>\n",
       "      <td>16.77</td>\n",
       "      <td>26.94</td>\n",
       "      <td>-0.06</td>\n",
       "    </tr>\n",
       "    <tr>\n",
       "      <th>2</th>\n",
       "      <td>h_lines</td>\n",
       "      <td>54.26</td>\n",
       "      <td>47.83</td>\n",
       "      <td>53.07</td>\n",
       "      <td>50.47</td>\n",
       "      <td>16.77</td>\n",
       "      <td>26.94</td>\n",
       "      <td>-0.06</td>\n",
       "    </tr>\n",
       "    <tr>\n",
       "      <th>3</th>\n",
       "      <td>v_lines</td>\n",
       "      <td>54.27</td>\n",
       "      <td>47.84</td>\n",
       "      <td>50.36</td>\n",
       "      <td>47.11</td>\n",
       "      <td>16.77</td>\n",
       "      <td>26.94</td>\n",
       "      <td>-0.07</td>\n",
       "    </tr>\n",
       "    <tr>\n",
       "      <th>4</th>\n",
       "      <td>x_shape</td>\n",
       "      <td>54.26</td>\n",
       "      <td>47.84</td>\n",
       "      <td>47.14</td>\n",
       "      <td>39.88</td>\n",
       "      <td>16.77</td>\n",
       "      <td>26.93</td>\n",
       "      <td>-0.07</td>\n",
       "    </tr>\n",
       "    <tr>\n",
       "      <th>5</th>\n",
       "      <td>star</td>\n",
       "      <td>54.27</td>\n",
       "      <td>47.84</td>\n",
       "      <td>56.53</td>\n",
       "      <td>50.11</td>\n",
       "      <td>16.77</td>\n",
       "      <td>26.93</td>\n",
       "      <td>-0.06</td>\n",
       "    </tr>\n",
       "    <tr>\n",
       "      <th>6</th>\n",
       "      <td>high_lines</td>\n",
       "      <td>54.27</td>\n",
       "      <td>47.84</td>\n",
       "      <td>54.17</td>\n",
       "      <td>32.50</td>\n",
       "      <td>16.77</td>\n",
       "      <td>26.94</td>\n",
       "      <td>-0.07</td>\n",
       "    </tr>\n",
       "    <tr>\n",
       "      <th>7</th>\n",
       "      <td>dots</td>\n",
       "      <td>54.26</td>\n",
       "      <td>47.84</td>\n",
       "      <td>50.98</td>\n",
       "      <td>51.30</td>\n",
       "      <td>16.77</td>\n",
       "      <td>26.93</td>\n",
       "      <td>-0.06</td>\n",
       "    </tr>\n",
       "    <tr>\n",
       "      <th>8</th>\n",
       "      <td>circle</td>\n",
       "      <td>54.27</td>\n",
       "      <td>47.84</td>\n",
       "      <td>54.02</td>\n",
       "      <td>51.03</td>\n",
       "      <td>16.76</td>\n",
       "      <td>26.93</td>\n",
       "      <td>-0.07</td>\n",
       "    </tr>\n",
       "    <tr>\n",
       "      <th>9</th>\n",
       "      <td>bullseye</td>\n",
       "      <td>54.27</td>\n",
       "      <td>47.83</td>\n",
       "      <td>53.84</td>\n",
       "      <td>47.38</td>\n",
       "      <td>16.77</td>\n",
       "      <td>26.94</td>\n",
       "      <td>-0.07</td>\n",
       "    </tr>\n",
       "    <tr>\n",
       "      <th>10</th>\n",
       "      <td>slant_up</td>\n",
       "      <td>54.27</td>\n",
       "      <td>47.83</td>\n",
       "      <td>54.26</td>\n",
       "      <td>45.29</td>\n",
       "      <td>16.77</td>\n",
       "      <td>26.94</td>\n",
       "      <td>-0.07</td>\n",
       "    </tr>\n",
       "    <tr>\n",
       "      <th>11</th>\n",
       "      <td>slant_down</td>\n",
       "      <td>54.27</td>\n",
       "      <td>47.84</td>\n",
       "      <td>53.14</td>\n",
       "      <td>46.40</td>\n",
       "      <td>16.77</td>\n",
       "      <td>26.94</td>\n",
       "      <td>-0.07</td>\n",
       "    </tr>\n",
       "    <tr>\n",
       "      <th>12</th>\n",
       "      <td>wide_lines</td>\n",
       "      <td>54.27</td>\n",
       "      <td>47.83</td>\n",
       "      <td>64.55</td>\n",
       "      <td>46.28</td>\n",
       "      <td>16.77</td>\n",
       "      <td>26.94</td>\n",
       "      <td>-0.07</td>\n",
       "    </tr>\n",
       "  </tbody>\n",
       "</table>\n",
       "</div>"
      ],
      "text/plain": [
       "       dataset  x_mean  y_mean  x_median  y_median  x_std  y_std  correlation\n",
       "0         dino   54.26   47.83     53.33     46.03  16.77  26.94        -0.06\n",
       "1         away   54.27   47.83     53.34     47.54  16.77  26.94        -0.06\n",
       "2      h_lines   54.26   47.83     53.07     50.47  16.77  26.94        -0.06\n",
       "3      v_lines   54.27   47.84     50.36     47.11  16.77  26.94        -0.07\n",
       "4      x_shape   54.26   47.84     47.14     39.88  16.77  26.93        -0.07\n",
       "5         star   54.27   47.84     56.53     50.11  16.77  26.93        -0.06\n",
       "6   high_lines   54.27   47.84     54.17     32.50  16.77  26.94        -0.07\n",
       "7         dots   54.26   47.84     50.98     51.30  16.77  26.93        -0.06\n",
       "8       circle   54.27   47.84     54.02     51.03  16.76  26.93        -0.07\n",
       "9     bullseye   54.27   47.83     53.84     47.38  16.77  26.94        -0.07\n",
       "10    slant_up   54.27   47.83     54.26     45.29  16.77  26.94        -0.07\n",
       "11  slant_down   54.27   47.84     53.14     46.40  16.77  26.94        -0.07\n",
       "12  wide_lines   54.27   47.83     64.55     46.28  16.77  26.94        -0.07"
      ]
     },
     "execution_count": 3,
     "metadata": {},
     "output_type": "execute_result"
    }
   ],
   "source": [
    "dataset_summary = []\n",
    "for current_dataset_name in dataset_names:\n",
    "    current_dataset = dozen[dozen['dataset'] == current_dataset_name]\n",
    "    dataset_summary.append([current_dataset_name,\n",
    "                            np.round(current_dataset.mean(axis = 0)[0], 2),\n",
    "                            np.round(current_dataset.mean(axis = 0)[1], 2),\n",
    "                            np.round(current_dataset.median(axis = 0)[0], 2),\n",
    "                            np.round(current_dataset.median(axis = 0)[1], 2),\n",
    "                            np.round(current_dataset.std(axis = 0)[0], 2),\n",
    "                            np.round(current_dataset.std(axis = 0)[1], 2),\n",
    "                            np.round(current_dataset.corr().values[0,1], 2)])\n",
    "    \n",
    "column_names = ['dataset', 'x_mean', 'y_mean', 'x_median', 'y_median', 'x_std', 'y_std', 'correlation']\n",
    "pd.DataFrame(dataset_summary,\n",
    "            columns = column_names)    "
   ]
  },
  {
   "cell_type": "markdown",
   "metadata": {},
   "source": [
    "We will consider cases where the on-time dlivery rate for suppliers are correlated. The following code block defines an optimization model that maximizes the buyer's expected profit under the assumption that demand is uncertain."
   ]
  },
  {
   "cell_type": "code",
   "execution_count": 4,
   "metadata": {},
   "outputs": [],
   "source": [
    "def solve_OTD_model(cost_vector, otd_sample, demand_sample, sales_price):\n",
    "    \n",
    "    scenarios = len(demand_sample)\n",
    "    suppliers = len(cost_vector)\n",
    "\n",
    "    m = Model(name = 'Sourcing Under All-or-Nothing Disruptions')\n",
    "    m.setParam('OutputFlag', 0)\n",
    "\n",
    "    Order = m.addVars(suppliers, vtype = 'C', name=\"Order\")\n",
    "    Sell = m.addVars(scenarios, vtype = 'C', name = \"Sell\")\n",
    "    \n",
    "    for scenario in range(scenarios):\n",
    "        total_delivered = LinExpr()\n",
    "        for supplier in range(suppliers):\n",
    "            total_delivered.add(Order[supplier]*otd_sample[scenario,supplier])\n",
    "        m.addConstr(Sell[scenario] <= total_delivered, name = 'Sell <= Delivered')\n",
    "\n",
    "    for scenario in range(scenarios):\n",
    "        m.addConstr(Sell[scenario] <= demand_sample[scenario], name = 'Sell <= Demand')\n",
    "\n",
    "    expected_revenue = LinExpr()\n",
    "    for scenario in range(scenarios):\n",
    "        expected_revenue.add(sales_price*Sell[scenario])\n",
    "    expected_revenue = expected_revenue/scenarios\n",
    "\n",
    "    expected_cost = LinExpr()\n",
    "    for scenario in range(scenarios): \n",
    "        for supplier in range(suppliers):\n",
    "            expected_cost.add(cost_vector[supplier]*Order[supplier]\\\n",
    "                              *otd_sample[scenario,supplier])\n",
    "    expected_cost = expected_cost/scenarios\n",
    "\n",
    "    objective = expected_revenue - expected_cost\n",
    "    m.setObjective(objective, GRB.MAXIMIZE) # maximize profit\n",
    "\n",
    "    m.optimize()\n",
    "    \n",
    "    solution_dict = {}\n",
    "    for supplier in range(suppliers):\n",
    "        solution_dict[supplier] = Order[supplier].X\n",
    "\n",
    "    return solution_dict"
   ]
  },
  {
   "cell_type": "markdown",
   "metadata": {},
   "source": [
    "# Single Group of Correlated Suppliers\n",
    "\n",
    "Let's first consider the case where the buyer has reason to believe that all of the available suppliers are subject to correlated disruptions. Such a case may arise if all suppliers are located in the same country, all suppliers utilize a common raw material, or all suppliers utilize common shipment modes. The following code block reads in a dataset for such a case and shows how the correlation imputed by the dataset changes as the amount of data available varies."
   ]
  },
  {
   "cell_type": "code",
   "execution_count": 5,
   "metadata": {},
   "outputs": [
    {
     "data": {
      "application/vnd.jupyter.widget-view+json": {
       "model_id": "8eff715f07184230a5b13ea70c968345",
       "version_major": 2,
       "version_minor": 0
      },
      "text/plain": [
       "interactive(children=(Dropdown(description='cutoff', options=(10, 15, 20, 25, 50, 100, 250, 500, 1000, 5000, 1…"
      ]
     },
     "metadata": {},
     "output_type": "display_data"
    }
   ],
   "source": [
    "single_group_sample = pd.read_csv('single_group.csv')\n",
    "cutoff_list = [10, 15, 20, 25, 50, 100, 250, 500, 1000, 5000, 10000]\n",
    "\n",
    "@interact(cutoff = cutoff_list)\n",
    "\n",
    "def interactive_spend_analysis(cutoff = cutoff_list[0]):\n",
    "\n",
    "    fig, ax = plt.subplots(1, 2, sharey = True, figsize = (16,6))\n",
    "\n",
    "    sns.heatmap(single_group_sample[:cutoff].corr().values, ax = ax[0], vmin=-1, vmax=1, cmap = 'coolwarm')\n",
    "    sns.heatmap(single_group_sample.corr().values, ax = ax[1], vmin=-1, vmax=1, cmap = 'coolwarm')\n",
    "    ax[0].set_title('Imputed Correlation', fontsize = 14)\n",
    "    ax[1].set_title('True Correlation', fontsize = 14)\n",
    "    \n",
    "\n",
    "    plt.show()"
   ]
  },
  {
   "cell_type": "markdown",
   "metadata": {},
   "source": [
    "The following code block calculates the on-time delivery rates for each supplier, specifies a unit cost vector for the available suppliers, and creates a list of the supplier names."
   ]
  },
  {
   "cell_type": "code",
   "execution_count": 6,
   "metadata": {},
   "outputs": [],
   "source": [
    "marginals = single_group_sample.mean(axis=0).values\n",
    "cost_vector = np.array([0.74, 0.83, 0.80, 0.87, 0.76])\n",
    "supplier_names = list(single_group_sample.columns)"
   ]
  },
  {
   "cell_type": "markdown",
   "metadata": {},
   "source": [
    "The following code block plots the unit cost and on-time delivery rate for each supplier."
   ]
  },
  {
   "cell_type": "code",
   "execution_count": 7,
   "metadata": {},
   "outputs": [
    {
     "data": {
      "image/png": "[encoded data removed]",
      "text/plain": [
       "<Figure size 576x432 with 1 Axes>"
      ]
     },
     "metadata": {
      "needs_background": "light"
     },
     "output_type": "display_data"
    }
   ],
   "source": [
    "fig, ax = plt.subplots(1, 1, figsize = (8,6))\n",
    "ax.scatter(x = marginals, y = cost_vector)\n",
    "ax.set_xlabel('OTD')\n",
    "ax.set_ylabel('Unit Cost')\n",
    "ax.set_xlim(min(marginals)-0.05, max(marginals)+0.05)\n",
    "ax.set_ylim(min(cost_vector)-0.05, max(cost_vector)+0.05)\n",
    "\n",
    "for (otd_val, cost_val, supplier) in zip(marginals, cost_vector, supplier_names):\n",
    "    ax.annotate(supplier, (otd_val + 0.005, cost_val + 0.005), fontsize = 12)\n",
    "\n",
    "plt.show()"
   ]
  },
  {
   "cell_type": "markdown",
   "metadata": {},
   "source": [
    "The following code block demonstrates how to determine the worst-case supply distribution for each supplier and uses it to solve the stochastic optimization problem. The dropdown box allows users to view how the solution changes as the amount of data used to fit the worst-case distribution varies."
   ]
  },
  {
   "cell_type": "code",
   "execution_count": 8,
   "metadata": {},
   "outputs": [
    {
     "data": {
      "application/vnd.jupyter.widget-view+json": {
       "model_id": "1fc9abcea1a74f059cab75cfe72efc05",
       "version_major": 2,
       "version_minor": 0
      },
      "text/plain": [
       "interactive(children=(Dropdown(description='cutoff', options=(5, 10, 15, 20, 25, 50, 100, 1000, 5000, 10000), …"
      ]
     },
     "metadata": {},
     "output_type": "display_data"
    }
   ],
   "source": [
    "cutoff_list = [5, 10, 15, 20, 25, 50, 100, 1000, 5000, 10000]\n",
    "\n",
    "@interact(cutoff = cutoff_list)\n",
    "\n",
    "def interactive_spend_analysis(cutoff = cutoff_list[0]):\n",
    "    \n",
    "    np.random.seed(0)\n",
    "    sample_size = 1000\n",
    "    demand_sample = np.random.normal(loc = 1000, scale = 100, size = sample_size)\n",
    "\n",
    "    single_group_data = single_group_sample[:cutoff].copy()\n",
    "    estimated_marginals = single_group_data.mean(axis=0).values\n",
    "        \n",
    "    group_sample = np.random.rand(sample_size)\n",
    "\n",
    "    otd_sample = np.ones((sample_size, len(estimated_marginals)))\n",
    "\n",
    "    for column in range(otd_sample.shape[1]):\n",
    "        otd_sample[:, column] = (group_sample <= estimated_marginals[column]).astype(int)\n",
    "\n",
    "    solution = solve_OTD_model(cost_vector, otd_sample, demand_sample, 1.0)\n",
    "\n",
    "    suppliers = list(solution.keys())\n",
    "    orders = list(solution.values())\n",
    "\n",
    "    fig, ax = plt.subplots(1, 1, figsize = (8,6))\n",
    "    ax.scatter(x = marginals, y = cost_vector, s = orders)\n",
    "    ax.set_xlabel('OTD')\n",
    "    ax.set_ylabel('Unit Cost')\n",
    "    ax.set_xlim(min(marginals)-0.05, max(marginals)+0.05)\n",
    "    ax.set_ylim(min(cost_vector)-0.05, max(cost_vector)+0.05)\n",
    "\n",
    "    for (otd_val, cost_val, supplier) in zip(marginals, cost_vector, supplier_names):\n",
    "        ax.annotate(supplier, (otd_val + 0.005, cost_val + 0.005), fontsize = 12)\n",
    "\n",
    "    plt.show()"
   ]
  },
  {
   "cell_type": "markdown",
   "metadata": {},
   "source": [
    "# Two Groups of Correlated Suppliers\n",
    "\n",
    "We will now consider the case where the buying firm believes that the available suppliers can be partitioned into groups, where the suppliers in each group are subject to correlated disruptions. The following code block reads in a dataset for such a case and shows how the correlation imputed by the dataset changes as the amount of data available varies."
   ]
  },
  {
   "cell_type": "code",
   "execution_count": 9,
   "metadata": {},
   "outputs": [
    {
     "data": {
      "application/vnd.jupyter.widget-view+json": {
       "model_id": "83df3e9e208b4cdaabf0a353402c69e5",
       "version_major": 2,
       "version_minor": 0
      },
      "text/plain": [
       "interactive(children=(Dropdown(description='cutoff', options=(10, 15, 20, 25, 50, 100, 250, 500, 1000, 5000, 1…"
      ]
     },
     "metadata": {},
     "output_type": "display_data"
    }
   ],
   "source": [
    "two_group_sample = pd.read_csv('Two_Groups.csv')\n",
    "cutoff_list = [10, 15, 20, 25, 50, 100, 250, 500, 1000, 5000, 10000]\n",
    "\n",
    "@interact(cutoff = cutoff_list)\n",
    "\n",
    "def interactive_spend_analysis(cutoff = cutoff_list[0]):\n",
    "\n",
    "    fig, ax = plt.subplots(1, 2, sharey = True, figsize = (16,6))\n",
    "\n",
    "    sns.heatmap(two_group_sample[:cutoff].corr().values, ax = ax[0], vmin=-1, vmax=1, cmap = 'coolwarm')\n",
    "    sns.heatmap(two_group_sample.corr().values, ax = ax[1], vmin=-1, vmax=1, cmap = 'coolwarm')\n",
    "    ax[0].set_title('Imputed Correlation', fontsize = 14)\n",
    "    ax[1].set_title('True Correlation', fontsize = 14)\n",
    "\n",
    "    plt.show()"
   ]
  },
  {
   "cell_type": "markdown",
   "metadata": {},
   "source": [
    "The following code block calculates the on-time delivery rates for each supplier, specifies a unit cost vector for the available suppliers, and creates a list of the supplier names."
   ]
  },
  {
   "cell_type": "code",
   "execution_count": 10,
   "metadata": {},
   "outputs": [],
   "source": [
    "marginals = two_group_sample.mean(axis=0).values\n",
    "cost_vector = np.array([0.73, 0.85, 0.77, 0.75, 0.725, 0.71])\n",
    "supplier_names = list(two_group_sample.columns)"
   ]
  },
  {
   "cell_type": "markdown",
   "metadata": {},
   "source": [
    "The following code block plots the unit cost and on-time delivery rate for each supplier."
   ]
  },
  {
   "cell_type": "code",
   "execution_count": 11,
   "metadata": {},
   "outputs": [
    {
     "data": {
      "image/png": "[encoded data removed]",
      "text/plain": [
       "<Figure size 576x432 with 1 Axes>"
      ]
     },
     "metadata": {
      "needs_background": "light"
     },
     "output_type": "display_data"
    }
   ],
   "source": [
    "fig, ax = plt.subplots(1, 1, figsize = (8,6))\n",
    "ax.scatter(x = marginals, y = cost_vector)\n",
    "ax.set_xlabel('OTD')\n",
    "ax.set_ylabel('Unit Cost')\n",
    "ax.set_xlim(min(marginals)-0.05, max(marginals)+0.05)\n",
    "ax.set_ylim(min(cost_vector)-0.05, max(cost_vector)+0.05)\n",
    "\n",
    "for (otd_val, cost_val, supplier) in zip(marginals, cost_vector, supplier_names):\n",
    "    ax.annotate(supplier, (otd_val + 0.005, cost_val + 0.005), fontsize = 12)\n",
    "\n",
    "plt.show()"
   ]
  },
  {
   "cell_type": "markdown",
   "metadata": {},
   "source": [
    "The following code block demonstrates how to determine the worst-case supply distribution for the case with supplier groups and uses it to solve the stochastic optimization problem. The dropdown box allows users to view how the solution changes as the amount of data used to fit the worst-case distribution varies."
   ]
  },
  {
   "cell_type": "code",
   "execution_count": 12,
   "metadata": {
    "scrolled": false
   },
   "outputs": [
    {
     "data": {
      "application/vnd.jupyter.widget-view+json": {
       "model_id": "0268f61ca89446a5bffffca2935ee397",
       "version_major": 2,
       "version_minor": 0
      },
      "text/plain": [
       "interactive(children=(Dropdown(description='cutoff', options=(5, 10, 15, 20, 25, 50, 100, 1000, 10000), value=…"
      ]
     },
     "metadata": {},
     "output_type": "display_data"
    }
   ],
   "source": [
    "cutoff_list = [5, 10, 15, 20, 25, 50, 100, 1000, 10000]\n",
    "\n",
    "@interact(cutoff = cutoff_list)\n",
    "\n",
    "def interactive_spend_analysis(cutoff = cutoff_list[0]):\n",
    "\n",
    "    np.random.seed(0)\n",
    "    sample_size = 1000\n",
    "    demand_sample = np.random.normal(loc = 1000, scale = 100, size = sample_size)\n",
    "    \n",
    "    two_group_data = two_group_sample[:cutoff].copy()\n",
    "    estimated_marginals = two_group_data.mean(axis=0).values\n",
    "\n",
    "    np.random.seed(0)\n",
    "    groups = [0,0,0,1,1,1]\n",
    "    group_rvs = np.random.rand(sample_size, len(set(groups)))\n",
    "\n",
    "    correlated_otd_sample = np.ones((sample_size, len(estimated_marginals)))\n",
    "    \n",
    "    for column in range(correlated_otd_sample.shape[1]):\n",
    "        correlated_otd_sample[:,column] = (group_rvs[:,groups[column]] <= estimated_marginals[column]).astype(int)\n",
    "\n",
    "    solution = solve_OTD_model(cost_vector, correlated_otd_sample, demand_sample, 1.0)\n",
    "\n",
    "    suppliers = list(solution.keys())\n",
    "    orders = list(solution.values())\n",
    "\n",
    "    fig, ax = plt.subplots(1, 1, figsize = (8,6))\n",
    "    ax.scatter(x = marginals, y = cost_vector, s = orders)\n",
    "    ax.set_xlabel('OTD')\n",
    "    ax.set_ylabel('Unit Cost')\n",
    "    ax.set_xlim(min(marginals)-0.05, max(marginals)+0.05)\n",
    "    ax.set_ylim(min(cost_vector)-0.05, max(cost_vector)+0.05)\n",
    "\n",
    "    for (otd_val, cost_val, supplier) in zip(marginals, cost_vector, supplier_names):\n",
    "        ax.annotate(supplier, (otd_val + 0.005, cost_val + 0.005), fontsize = 12)\n",
    "\n",
    "    plt.show()"
   ]
  }
 ],
 "metadata": {
  "kernelspec": {
   "display_name": "Python 3",
   "language": "python",
   "name": "python3"
  },
  "language_info": {
   "codemirror_mode": {
    "name": "ipython",
    "version": 3
   },
   "file_extension": ".py",
   "mimetype": "text/x-python",
   "name": "python",
   "nbconvert_exporter": "python",
   "pygments_lexer": "ipython3",
   "version": "3.7.3"
  }
 },
 "nbformat": 4,
 "nbformat_minor": 2
}
